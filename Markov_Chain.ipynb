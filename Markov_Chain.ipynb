{
 "cells": [
  {
   "cell_type": "markdown",
   "metadata": {},
   "source": [
    "# Import Essential Libraires"
   ]
  },
  {
   "cell_type": "code",
   "execution_count": 2,
   "metadata": {},
   "outputs": [],
   "source": [
    "import pandas as pd\n",
    "import markovify"
   ]
  },
  {
   "cell_type": "markdown",
   "metadata": {},
   "source": [
    "# Read data"
   ]
  },
  {
   "cell_type": "code",
   "execution_count": 15,
   "metadata": {},
   "outputs": [
    {
     "data": {
      "text/html": [
       "<div>\n",
       "<style scoped>\n",
       "    .dataframe tbody tr th:only-of-type {\n",
       "        vertical-align: middle;\n",
       "    }\n",
       "\n",
       "    .dataframe tbody tr th {\n",
       "        vertical-align: top;\n",
       "    }\n",
       "\n",
       "    .dataframe thead th {\n",
       "        text-align: right;\n",
       "    }\n",
       "</style>\n",
       "<table border=\"1\" class=\"dataframe\">\n",
       "  <thead>\n",
       "    <tr style=\"text-align: right;\">\n",
       "      <th></th>\n",
       "      <th>Unnamed: 0</th>\n",
       "      <th>tweet_id</th>\n",
       "      <th>writer</th>\n",
       "      <th>post_date</th>\n",
       "      <th>body</th>\n",
       "      <th>comment_num</th>\n",
       "      <th>retweet_num</th>\n",
       "      <th>like_num</th>\n",
       "      <th>ticker_symbol</th>\n",
       "    </tr>\n",
       "  </thead>\n",
       "  <tbody>\n",
       "    <tr>\n",
       "      <th>0</th>\n",
       "      <td>0</td>\n",
       "      <td>550441672312512512</td>\n",
       "      <td>KeralaGuy77</td>\n",
       "      <td>2015-01-01</td>\n",
       "      <td>Insanity of today weirdo massive selling. $aap...</td>\n",
       "      <td>0</td>\n",
       "      <td>0</td>\n",
       "      <td>0</td>\n",
       "      <td>AAPL</td>\n",
       "    </tr>\n",
       "    <tr>\n",
       "      <th>1</th>\n",
       "      <td>1</td>\n",
       "      <td>550452877466935296</td>\n",
       "      <td>TheTrendIsUp</td>\n",
       "      <td>2015-01-01</td>\n",
       "      <td>My biggest winner in 2014: Inverse Volatility ...</td>\n",
       "      <td>1</td>\n",
       "      <td>0</td>\n",
       "      <td>0</td>\n",
       "      <td>AAPL</td>\n",
       "    </tr>\n",
       "    <tr>\n",
       "      <th>2</th>\n",
       "      <td>2</td>\n",
       "      <td>550456665607122944</td>\n",
       "      <td>t_nathan95</td>\n",
       "      <td>2015-01-01</td>\n",
       "      <td>Had a down day of -.66%. Worst performer was $...</td>\n",
       "      <td>0</td>\n",
       "      <td>0</td>\n",
       "      <td>0</td>\n",
       "      <td>AAPL</td>\n",
       "    </tr>\n",
       "    <tr>\n",
       "      <th>3</th>\n",
       "      <td>3</td>\n",
       "      <td>550459042787651584</td>\n",
       "      <td>petergo99037185</td>\n",
       "      <td>2015-01-01</td>\n",
       "      <td>YR %,  /-, $TSLA  47.85%, $FB  42.77%, $TWTR -...</td>\n",
       "      <td>0</td>\n",
       "      <td>0</td>\n",
       "      <td>0</td>\n",
       "      <td>AAPL</td>\n",
       "    </tr>\n",
       "    <tr>\n",
       "      <th>4</th>\n",
       "      <td>4</td>\n",
       "      <td>550461555423584257</td>\n",
       "      <td>t_nathan95</td>\n",
       "      <td>2015-01-01</td>\n",
       "      <td>Prediction: $TWTR $GRPN $YELP are acquired as ...</td>\n",
       "      <td>0</td>\n",
       "      <td>0</td>\n",
       "      <td>1</td>\n",
       "      <td>GOOG</td>\n",
       "    </tr>\n",
       "  </tbody>\n",
       "</table>\n",
       "</div>"
      ],
      "text/plain": [
       "   Unnamed: 0            tweet_id           writer   post_date  \\\n",
       "0           0  550441672312512512      KeralaGuy77  2015-01-01   \n",
       "1           1  550452877466935296     TheTrendIsUp  2015-01-01   \n",
       "2           2  550456665607122944       t_nathan95  2015-01-01   \n",
       "3           3  550459042787651584  petergo99037185  2015-01-01   \n",
       "4           4  550461555423584257       t_nathan95  2015-01-01   \n",
       "\n",
       "                                                body  comment_num  \\\n",
       "0  Insanity of today weirdo massive selling. $aap...            0   \n",
       "1  My biggest winner in 2014: Inverse Volatility ...            1   \n",
       "2  Had a down day of -.66%. Worst performer was $...            0   \n",
       "3  YR %,  /-, $TSLA  47.85%, $FB  42.77%, $TWTR -...            0   \n",
       "4  Prediction: $TWTR $GRPN $YELP are acquired as ...            0   \n",
       "\n",
       "   retweet_num  like_num ticker_symbol  \n",
       "0            0         0          AAPL  \n",
       "1            0         0          AAPL  \n",
       "2            0         0          AAPL  \n",
       "3            0         0          AAPL  \n",
       "4            0         1          GOOG  "
      ]
     },
     "execution_count": 15,
     "metadata": {},
     "output_type": "execute_result"
    }
   ],
   "source": [
    "dataset = pd.read_csv(\"data/stock_market_tweets.csv\")\n",
    "dataset.head()"
   ]
  },
  {
   "cell_type": "code",
   "execution_count": 4,
   "metadata": {},
   "outputs": [
    {
     "data": {
      "text/plain": [
       "['Insanity of today weirdo massive selling. $aapl bid up 45 cents after hours after non stop selling in trading hours',\n",
       " 'My biggest winner in 2014: Inverse Volatility ETF $XIVMy biggest loser in 2014: Apple $AAPL',\n",
       " 'Had a down day of -.66%. Worst performer was $AAPL down -1.9% and best was $SBUX up _.32%. #Performance #Transparency',\n",
       " 'YR %,  /-, $TSLA  47.85%, $FB  42.77%, $TWTR -43.64%, $AAPL  37.72%, $GLD -2.19%, $SLV -19.51%, Wti Crude $OIL -41.11%, @NG.1 NatGas -33.12%',\n",
       " 'Prediction: $TWTR $GRPN $YELP are acquired as big tech ( $BABA $GOOGL $GOOG $YHOO) look to increase their shares in social media']"
      ]
     },
     "execution_count": 4,
     "metadata": {},
     "output_type": "execute_result"
    }
   ],
   "source": [
    "# Get tweets from the 'body' column and filter None or empty values\n",
    "tweets = [tweet for tweet in dataset['body'].tolist() if tweet and isinstance(tweet, str)]\n",
    "tweets[:5]"
   ]
  },
  {
   "cell_type": "markdown",
   "metadata": {},
   "source": [
    "# Create Model"
   ]
  },
  {
   "cell_type": "code",
   "execution_count": 5,
   "metadata": {},
   "outputs": [],
   "source": [
    "class MarkovChainTextGenerator:\n",
    "    def __init__(self, tweets, state_size=1):\n",
    "        self.model = self.build_model(tweets, state_size)\n",
    "\n",
    "    def build_model(self, tweets, state_size):\n",
    "        # Filter out None values\n",
    "        tweets = [tweet for tweet in tweets if tweet is not None]\n",
    "     \n",
    "        # Handle sentence boundaries more carefully by adding a period only if it doesn't end with punctuation\n",
    "        text = \" \".join([tweet if tweet.endswith(('.', '!', '?')) else tweet + '.' for tweet in tweets])\n",
    "\n",
    "        # Build the Markovify model with the specified state size\n",
    "        return markovify.Text(text, state_size=state_size)\n",
    "\n",
    "    def generate_tweet(self, max_length=140):\n",
    "        # Try generating a tweet, and handle cases where generation might fail\n",
    "        try:\n",
    "            return self.model.make_short_sentence(max_length)\n",
    "        except KeyError:\n",
    "            # Fallback in case of KeyError\n",
    "            return \"Model failed to generate a tweet. Try training with more data.\""
   ]
  },
  {
   "cell_type": "code",
   "execution_count": 6,
   "metadata": {},
   "outputs": [],
   "source": [
    "# Create an instance from class trained on data\n",
    "tweet_generator = MarkovChainTextGenerator(tweets, state_size=3)"
   ]
  },
  {
   "cell_type": "markdown",
   "metadata": {},
   "source": [
    "# Inference"
   ]
  },
  {
   "cell_type": "code",
   "execution_count": 7,
   "metadata": {},
   "outputs": [
    {
     "name": "stdout",
     "output_type": "stream",
     "text": [
      "$TSLA i always said this is going to explode tomorrow.\n",
      "@FMossotto tracks the ships and trucks delivering oil and gas business!Dude is TRASHED!Hates Elon and is LOUD!\n",
      "I love watching the $tsla / $tslaq Q1 flash gets published at...\n",
      "That's Norway to you and an asshole to return it?\n",
      "These stock experts have been wrong before $BTC $BCH $ETH #crypto #bitcoin #WarrenBuffett.\n"
     ]
    }
   ],
   "source": [
    "# Generate and print 5 sample tweets\n",
    "for _ in range(5):\n",
    "    print(tweet_generator.generate_tweet())"
   ]
  }
 ],
 "metadata": {
  "kernelspec": {
   "display_name": "task1gpt2",
   "language": "python",
   "name": "task1"
  },
  "language_info": {
   "codemirror_mode": {
    "name": "ipython",
    "version": 3
   },
   "file_extension": ".py",
   "mimetype": "text/x-python",
   "name": "python",
   "nbconvert_exporter": "python",
   "pygments_lexer": "ipython3",
   "version": "3.12.5"
  }
 },
 "nbformat": 4,
 "nbformat_minor": 2
}
